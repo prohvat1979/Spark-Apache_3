{
  "nbformat": 4,
  "nbformat_minor": 0,
  "metadata": {
    "colab": {
      "provenance": []
    },
    "kernelspec": {
      "name": "python3",
      "display_name": "Python 3"
    },
    "language_info": {
      "name": "python"
    }
  },
  "cells": [
    {
      "cell_type": "markdown",
      "source": [
        "Spark Apache (семинары)\n",
        "\n",
        "Урок 3. Инструменты работы и визуализации ч.2\n",
        "Условие: есть набор данных о продажах продуктов с информацией о дате продаж, категории продукта, количестве и выручке от продаж.\n",
        "\n",
        "Используя Apache Spark, загрузите предоставленный набор данных в DataFrame (пример данных ниже).\n",
        "\n",
        "(\"2023-11-20\", \"Electronics\", 100, 12000),\n",
        "(\"2023-11-21\", \"Electronics\", 110, 13000),\n",
        "(\"2023-11-22\", \"Electronics\", 105, 12500),\n",
        "(\"2023-11-20\", \"Clothing\", 300, 15000),\n",
        "(\"2023-11-21\", \"Clothing\", 280, 14000),\n",
        "(\"2023-11-22\", \"Clothing\", 320, 16000),\n",
        "(\"2023-11-20\", \"Books\", 150, 9000),\n",
        "(\"2023-11-21\", \"Books\", 200, 12000),\n",
        "(\"2023-11-22\", \"Books\", 180, 10000)\n",
        "\n",
        "Столбцы: \"date\", \"category\", \"quantity\", \"revenue\".\n",
        "\n",
        "С использованием оконных функций, рассчитайте среднее выручки от продаж для каждой категории продукта.\n",
        "Примените операцию pivot для того, чтобы преобразовать полученные данные таким образом, чтобы в качестве строк были категории продуктов, в качестве столбцов были дни, а значениями были средние значения выручки от продаж за соответствующий день"
      ],
      "metadata": {
        "id": "0bGL4Ge0yUKY"
      }
    },
    {
      "cell_type": "markdown",
      "source": [],
      "metadata": {
        "id": "GM_6t7sVyO-Q"
      }
    },
    {
      "cell_type": "code",
      "execution_count": 2,
      "metadata": {
        "colab": {
          "base_uri": "https://localhost:8080/"
        },
        "id": "jOOyIPZfxBEm",
        "outputId": "c72c7920-30f8-47a3-ab64-08a480620d04"
      },
      "outputs": [
        {
          "output_type": "stream",
          "name": "stdout",
          "text": [
            "Collecting pyspark\n",
            "  Downloading pyspark-3.5.3.tar.gz (317.3 MB)\n",
            "\u001b[2K     \u001b[90m━━━━━━━━━━━━━━━━━━━━━━━━━━━━━━━━━━━━━━━━\u001b[0m \u001b[32m317.3/317.3 MB\u001b[0m \u001b[31m4.9 MB/s\u001b[0m eta \u001b[36m0:00:00\u001b[0m\n",
            "\u001b[?25h  Preparing metadata (setup.py) ... \u001b[?25l\u001b[?25hdone\n",
            "Requirement already satisfied: py4j==0.10.9.7 in /usr/local/lib/python3.10/dist-packages (from pyspark) (0.10.9.7)\n",
            "Building wheels for collected packages: pyspark\n",
            "  Building wheel for pyspark (setup.py) ... \u001b[?25l\u001b[?25hdone\n",
            "  Created wheel for pyspark: filename=pyspark-3.5.3-py2.py3-none-any.whl size=317840625 sha256=be6d7e5eddf7c9c8bd76c7b430996dbe2fc00b616dfd239fdb5724fc7de255e8\n",
            "  Stored in directory: /root/.cache/pip/wheels/1b/3a/92/28b93e2fbfdbb07509ca4d6f50c5e407f48dce4ddbda69a4ab\n",
            "Successfully built pyspark\n",
            "Installing collected packages: pyspark\n",
            "Successfully installed pyspark-3.5.3\n"
          ]
        }
      ],
      "source": [
        "pip install pyspark"
      ]
    },
    {
      "cell_type": "code",
      "source": [
        "from pyspark.sql import SparkSession\n",
        "from pyspark.sql.window import Window\n",
        "import pyspark.sql.functions as fn\n",
        "from pyspark.sql.types import DoubleType"
      ],
      "metadata": {
        "id": "BcIgkEMIxist"
      },
      "execution_count": 3,
      "outputs": []
    },
    {
      "cell_type": "code",
      "source": [
        "# Создание Spark сессии\n",
        "spark = SparkSession.builder.appName(\"Homework4\").getOrCreate()\n",
        "\n",
        "# Исходные данные\n",
        "data = [(\"2023-11-20\", \"Electronics\", 100, 12000),\n",
        "        (\"2023-11-21\", \"Electronics\", 110, 13000),\n",
        "        (\"2023-11-22\", \"Electronics\", 105, 12500),\n",
        "        (\"2023-11-20\", \"Clothing\", 300, 15000),\n",
        "        (\"2023-11-21\", \"Clothing\", 280, 14000),\n",
        "        (\"2023-11-22\", \"Clothing\", 320, 16000),\n",
        "        (\"2023-11-20\", \"Books\", 150, 9000),\n",
        "        (\"2023-11-21\", \"Books\", 200, 12000),\n",
        "        (\"2023-11-22\", \"Books\", 180, 10000)]\n",
        "\n",
        "# Создание DataFrame\n",
        "schema = [\"date\", \"category\", \"quantity\", \"revenue\"]\n",
        "df = spark.createDataFrame(data, schema)\n",
        "\n",
        "# Преобразование поля date в тип данных DateType\n",
        "df = df.withColumn(\"date\", fn.to_date(\"date\"))\n",
        "\n",
        "# Определение оконной спецификации\n",
        "window_spec = Window.partitionBy(\"category\")\n",
        "\n",
        "# Оконная функция: вычисление средней выручки от продаж для каждой категории продукта\n",
        "avg_revenue = fn.avg(\"revenue\").over(window_spec)\n",
        "\n",
        "# Применение оконной функции и приведение к double\n",
        "result_df = df.withColumn(\"avg_revenue\", avg_revenue.cast(DoubleType()))\n",
        "\n",
        "# Отображение результатов: используем distinct() для исключения повторов\n",
        "result_df.select([\"category\", \"avg_revenue\"]).distinct().show()"
      ],
      "metadata": {
        "colab": {
          "base_uri": "https://localhost:8080/"
        },
        "id": "-JV-wIK2xqK5",
        "outputId": "c88c3930-412b-4fda-ac5a-884686cb9cfa"
      },
      "execution_count": 4,
      "outputs": [
        {
          "output_type": "stream",
          "name": "stdout",
          "text": [
            "+-----------+------------------+\n",
            "|   category|       avg_revenue|\n",
            "+-----------+------------------+\n",
            "|      Books|10333.333333333334|\n",
            "|   Clothing|           15000.0|\n",
            "|Electronics|           12500.0|\n",
            "+-----------+------------------+\n",
            "\n"
          ]
        }
      ]
    },
    {
      "cell_type": "code",
      "source": [
        "# Определение при помощи функции pivot средних значений выручки от продаж по категориям за соответствующий день\n",
        "pivot_df = df.groupBy(\"category\").pivot(\"date\").agg(fn.avg(\"revenue\")).orderBy(\"category\")\n",
        "\n",
        "# Вывод результатов\n",
        "pivot_df.show()"
      ],
      "metadata": {
        "colab": {
          "base_uri": "https://localhost:8080/"
        },
        "id": "x9KowuUfxyAx",
        "outputId": "087c8c3e-48e9-4b90-be7d-45ad228abd3b"
      },
      "execution_count": 5,
      "outputs": [
        {
          "output_type": "stream",
          "name": "stdout",
          "text": [
            "+-----------+----------+----------+----------+\n",
            "|   category|2023-11-20|2023-11-21|2023-11-22|\n",
            "+-----------+----------+----------+----------+\n",
            "|      Books|    9000.0|   12000.0|   10000.0|\n",
            "|   Clothing|   15000.0|   14000.0|   16000.0|\n",
            "|Electronics|   12000.0|   13000.0|   12500.0|\n",
            "+-----------+----------+----------+----------+\n",
            "\n"
          ]
        }
      ]
    }
  ]
}